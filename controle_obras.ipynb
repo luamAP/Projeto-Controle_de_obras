{
 "cells": [
  {
   "cell_type": "code",
   "execution_count": 1,
   "metadata": {},
   "outputs": [],
   "source": [
    "from selenium import webdriver\n",
    "\n",
    "from selenium.webdriver.support.ui import WebDriverWait\n",
    "from selenium.webdriver.support import expected_conditions\n",
    "from selenium.webdriver.common.by import By\n",
    "from selenium.webdriver.common.keys import Keys \n",
    "from selenium.webdriver.common.action_chains import ActionChains\n",
    "from selenium.common.exceptions import NoSuchElementException\n",
    "from selenium.common.exceptions import StaleElementReferenceException\n",
    "\n",
    "from selenium.webdriver.chrome.service import Service\n",
    "from webdriver_manager.chrome import ChromeDriverManager\n",
    "\n",
    "from time import sleep as para\n",
    "from time import time as contar\n",
    "import datetime as dt\n",
    "\n",
    "import pandas as pd\n",
    "\n",
    "from openpyxl import load_workbook, Workbook\n",
    "from tkinter import messagebox\n",
    "from tkinter import Tk"
   ]
  },
  {
   "cell_type": "code",
   "execution_count": 2,
   "metadata": {},
   "outputs": [],
   "source": [
    "class Navegacao():\n",
    "    def __init__(self):\n",
    "\n",
    "        servico = Service(ChromeDriverManager().install())\n",
    "\n",
    "        ask = messagebox.askyesno(\"Esconder Navegador\", \"Deseja esconder o navegador?\")\n",
    "        janela = Tk()\n",
    "        if ask:\n",
    "            options = webdriver.ChromeOptions()\n",
    "            options.add_argument(\"--headless\")\n",
    "            navegador = webdriver.Chrome(options=options, service=servico)\n",
    "        else: navegador = webdriver.Chrome(service=servico)\n",
    "        janela.destroy()\n",
    "        self.vars = {'ignored_exceptions': (NoSuchElementException,StaleElementReferenceException), \n",
    "                    'senha': f'Jaspekde27.{dt.date.today().month*3}'}\n",
    "        self.navegador = navegador\n",
    "        "
   ]
  },
  {
   "cell_type": "code",
   "execution_count": 3,
   "metadata": {},
   "outputs": [],
   "source": [
    "driver = Navegacao()\n",
    "driver.navegador.get('https://www.google.com/')\n",
    "driver.navegador.close()"
   ]
  },
  {
   "cell_type": "code",
   "execution_count": null,
   "metadata": {},
   "outputs": [],
   "source": [
    "import os\n",
    "\n",
    "def ler_arquivos_em_pasta(caminho_pasta):\n",
    "    arquivos = os.listdir(caminho_pasta)\n",
    "    \n",
    "    for arquivo in arquivos:\n",
    "        caminho_arquivo = os.path.join(caminho_pasta, arquivo)\n",
    "        \n",
    "        # if '.doc' in os.path.isfile(caminho_arquivo):\n",
    "        if '.doc' in arquivo and os.path.isfile(caminho_arquivo):\n",
    "            # with open(caminho_arquivo, 'r') as f:\n",
    "            #     conteudo = f.read()\n",
    "            #     # Faça algo com o conteúdo do arquivo\n",
    "            #     print(conteudo)\n",
    "            print(arquivo, type(arquivo))\n",
    "            novo_nome = os.path.splitext(arquivo)[0] + \".docx\"\n",
    "            print(novo_nome, type(novo_nome))\n",
    "            os.rename(caminho_arquivo, os.path.join(caminho_pasta, novo_nome))\n",
    "\n",
    "# Exemplo de uso\n",
    "caminho_pasta = r\"\\\\soturno\\CONTABILIDADE\\08 - PLANILHAS OBRAS\\CONTRATOS\\CONTRATO_2014\"\n",
    "ler_arquivos_em_pasta(caminho_pasta)\n",
    "# print(d)"
   ]
  },
  {
   "cell_type": "code",
   "execution_count": null,
   "metadata": {},
   "outputs": [],
   "source": [
    "from docx import Document\n",
    "\n",
    "def ler_arquivo_docx(caminho_arquivo):\n",
    "    doc = Document(caminho_arquivo)\n",
    "    \n",
    "    conteudo = \"\"\n",
    "    for paragrafo in doc.paragraphs:\n",
    "        conteudo += paragrafo.text + \"\\n\"\n",
    "    \n",
    "    return conteudo\n",
    "\n",
    "# Exemplo de uso\n",
    "# caminho_arquivo = doc\n",
    "# caminho_arquivo = r\"\\\\soturno\\CONTABILIDADE\\08 - PLANILHAS OBRAS\\CONTRATOS\\CONTRATO_2014\\CONTRATO 001 -WT CONS-10-FEV.doc\"\n",
    "caminho_arquivo = \"\\\\soturno\\CONTABILIDADE\\08 - PLANILHAS OBRAS\\CONTRATOS\\CONTRATO_2014\\CONTRATO 006-LAGHI-ABRIL.docx\"\n",
    "texto = ler_arquivo_docx(caminho_arquivo)\n",
    "print(texto)\n"
   ]
  },
  {
   "cell_type": "code",
   "execution_count": 12,
   "metadata": {},
   "outputs": [
    {
     "data": {
      "text/plain": [
       "'\\r\\r\\rEXTRATO\\r\\r\\r1.ESPÉCIE: Contrato nº. 001, celebrado em10.02.2014.\\r2.PARTES: Município de Manaus (SEMINF) e a empresa  WT CONSTRUÇÕES E COMÉRCIO LTDA.\\r3.OBJETO: Revitalização e Adequação do Parque Municipal do Mindú em  Manaus/AM, de acordo com o Edital da Tomada de Preços nº. 005/2013-CML/PM e seus anexos.\\r4.VALOR GLOBAL: R$ 878.094,10 (Oitocentos e setenta e oito mil, noventa e quatro reais e dez centavos. \\r5.DOTAÇÃO: 28900 – 18.541.1081.2187.0000 - 44905120, Fonte nº. 06100000, Nota de Empenho nº. 00098 de 30.012014.\\r6.PRAZO: O prazo de vigência do presente contrato será de 180 (cento e oitenta) dias corridos.\\r\\rManaus, 10 de fevereiro de 2014.\\r\\r\\r\\rORLANDO CABRAL HOLANDA\\rSubsecretário Municipal de Obras Públicas -\\rSEMINF\\r\\r'"
      ]
     },
     "execution_count": 12,
     "metadata": {},
     "output_type": "execute_result"
    }
   ],
   "source": [
    "import win32com.client\n",
    "\n",
    "def ler_arquivo_doc(caminho_arquivo_doc):\n",
    "    word = win32com.client.Dispatch(\"Word.Application\")\n",
    "    doc = word.Documents.Open(caminho_arquivo_doc)\n",
    "    \n",
    "    # Extrai o texto do documento .doc\n",
    "    texto = doc.Content.Text\n",
    "    \n",
    "    # Fecha o documento e o aplicativo Word\n",
    "    doc.Close()\n",
    "    word.Quit()\n",
    "    \n",
    "    return texto\n",
    "\n",
    "# Exemplo de uso\n",
    "caminho_arquivo_doc = r\"\\\\soturno\\CONTABILIDADE\\08 - PLANILHAS OBRAS\\CONTRATOS\\CONTRATO_2014\\CONTRATO 001 -WT CONS-10-FEV.doc\"\n",
    "texto_do_doc = ler_arquivo_doc(caminho_arquivo_doc)\n",
    "texto_do_doc\n"
   ]
  }
 ],
 "metadata": {
  "kernelspec": {
   "display_name": "controle_obras",
   "language": "python",
   "name": "python3"
  },
  "language_info": {
   "codemirror_mode": {
    "name": "ipython",
    "version": 3
   },
   "file_extension": ".py",
   "mimetype": "text/x-python",
   "name": "python",
   "nbconvert_exporter": "python",
   "pygments_lexer": "ipython3",
   "version": "3.10.4"
  },
  "orig_nbformat": 4
 },
 "nbformat": 4,
 "nbformat_minor": 2
}
