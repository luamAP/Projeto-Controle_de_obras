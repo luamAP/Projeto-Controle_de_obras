{
 "cells": [
  {
   "cell_type": "code",
   "execution_count": 4,
   "metadata": {},
   "outputs": [],
   "source": [
    "import tkinter as tk\n",
    "from tkinter import messagebox\n",
    "import sqlite3\n",
    "\n",
    "# Função para lidar com o cadastro\n",
    "def cadastrar_obra():\n",
    "    nome = entry_nome.get()\n",
    "    descricao = entry_descricao.get()\n",
    "    \n",
    "    if nome and descricao:\n",
    "        # Conectar ao banco de dados SQLite\n",
    "        conn = sqlite3.connect(\"obras.db\")\n",
    "        cursor = conn.cursor()\n",
    "        \n",
    "        # Inserir dados na tabela\n",
    "        cursor.execute(\"INSERT INTO obras (nome, descricao) VALUES (?, ?)\", (nome, descricao))\n",
    "        \n",
    "        conn.commit()\n",
    "        conn.close()\n",
    "        \n",
    "        messagebox.showinfo(\"Cadastro\", \"Obra cadastrada com sucesso!\")\n",
    "    else:\n",
    "        messagebox.showerror(\"Erro\", \"Por favor, preencha todos os campos.\")\n",
    "\n",
    "# Criar a janela principal\n",
    "root = tk.Tk()\n",
    "root.title(\"Cadastro de Obras\")\n",
    "\n",
    "# Criar labels e entry fields\n",
    "label_nome = tk.Label(root, text=\"Nome da Obra:\")\n",
    "label_descricao = tk.Label(root, text=\"Descrição:\")\n",
    "entry_nome = tk.Entry(root)\n",
    "entry_descricao = tk.Entry(root)\n",
    "\n",
    "# Criar botão de cadastro\n",
    "botao_cadastrar = tk.Button(root, text=\"Cadastrar\", command=cadastrar_obra)\n",
    "\n",
    "# Organizar elementos na janela\n",
    "label_nome.grid(row=0, column=0, padx=10, pady=5)\n",
    "entry_nome.grid(row=0, column=1, padx=10, pady=5)\n",
    "label_descricao.grid(row=1, column=0, padx=10, pady=5)\n",
    "entry_descricao.grid(row=1, column=1, padx=10, pady=5)\n",
    "botao_cadastrar.grid(row=2, columnspan=2, padx=10, pady=10)\n",
    "\n",
    "# Criar tabela no banco de dados (executar apenas uma vez)\n",
    "conn = sqlite3.connect(\"obras.db\")\n",
    "cursor = conn.cursor()\n",
    "cursor.execute(\"CREATE TABLE IF NOT EXISTS obras (id INTEGER PRIMARY KEY, nome TEXT, descricao TEXT)\")\n",
    "conn.commit()\n",
    "conn.close()\n",
    "\n",
    "# Iniciar o loop principal da interface\n",
    "root.mainloop()\n"
   ]
  },
  {
   "cell_type": "code",
   "execution_count": 2,
   "metadata": {},
   "outputs": [
    {
     "ename": "RuntimeError",
     "evalue": "Please destroy the QApplication singleton before creating a new QApplication instance.",
     "output_type": "error",
     "traceback": [
      "\u001b[1;31m---------------------------------------------------------------------------\u001b[0m",
      "\u001b[1;31mRuntimeError\u001b[0m                              Traceback (most recent call last)",
      "Cell \u001b[1;32mIn[2], line 17\u001b[0m\n\u001b[0;32m     12\u001b[0m         \u001b[39mself\u001b[39m\u001b[39m.\u001b[39mui\u001b[39m.\u001b[39msetupUi(\u001b[39mself\u001b[39m)\n\u001b[0;32m     16\u001b[0m \u001b[39m# if __name__==\"__main__\":\u001b[39;00m\n\u001b[1;32m---> 17\u001b[0m app \u001b[39m=\u001b[39m QApplication(sys\u001b[39m.\u001b[39;49margv)\n\u001b[0;32m     18\u001b[0m window \u001b[39m=\u001b[39m MainWindow()\n\u001b[0;32m     19\u001b[0m window\u001b[39m.\u001b[39mshow()\n",
      "\u001b[1;31mRuntimeError\u001b[0m: Please destroy the QApplication singleton before creating a new QApplication instance."
     ]
    }
   ],
   "source": [
    "from PySide2.QtWidgets import(QApplication, QWidget, QMainWindow)\n",
    "from ui_main import Ui_MainWindow\n",
    "import sys\n",
    "\n",
    "\n",
    "class MainWindow(QMainWindow, Ui_MainWindow):\n",
    "    def __init__(self):\n",
    "        super(MainWindow, self).__init__()\n",
    "        self.setupUi(self)\n",
    "        self.setWindowTitle(\"Controle de Obras\")\n",
    "        self.ui = Ui_MainWindow()\n",
    "        self.ui.setupUi(self)\n",
    "\n",
    "\n",
    "\n",
    "# if __name__==\"__main__\":\n",
    "app = QApplication(sys.argv)\n",
    "window = MainWindow()\n",
    "window.show()\n",
    "app.exec_()\n"
   ]
  }
 ],
 "metadata": {
  "kernelspec": {
   "display_name": "controle_obras",
   "language": "python",
   "name": "python3"
  },
  "language_info": {
   "codemirror_mode": {
    "name": "ipython",
    "version": 3
   },
   "file_extension": ".py",
   "mimetype": "text/x-python",
   "name": "python",
   "nbconvert_exporter": "python",
   "pygments_lexer": "ipython3",
   "version": "3.10.4"
  },
  "orig_nbformat": 4
 },
 "nbformat": 4,
 "nbformat_minor": 2
}
