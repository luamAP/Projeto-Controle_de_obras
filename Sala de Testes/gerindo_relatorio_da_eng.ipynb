{
 "cells": [
  {
   "cell_type": "code",
   "execution_count": 5,
   "metadata": {},
   "outputs": [],
   "source": [
    "from openpyxl import load_workbook\n",
    "import pandas as pd\n",
    "from openpyxl import Workbook\n",
    "from openpyxl.styles import Alignment\n",
    "\n"
   ]
  },
  {
   "cell_type": "code",
   "execution_count": 6,
   "metadata": {},
   "outputs": [],
   "source": [
    "\n",
    "def adicionar_linhas_acima(worksheet, numero_linhas=2):\n",
    "    for _ in range(numero_linhas):\n",
    "        worksheet.insert_rows(worksheet.min_row)\n",
    "\n"
   ]
  },
  {
   "cell_type": "code",
   "execution_count": 7,
   "metadata": {},
   "outputs": [],
   "source": [
    "arquivo_excel = r\"C:\\Users\\luan.pinto\\Downloads\\0.CONTROLE DE CONTRATOS.xlsx\"\n",
    "\n",
    "df = pd.read_excel(arquivo_excel, sheet_name='Planilha tests')\n",
    "# for d in df: print(f'\"{d}\"')\n",
    "\n",
    "df.drop(['CONVÊNIO', 'ORIGEM', 'ENG.° FISCAL','PORTARIA DE NOMEAÇÃO ','PRAZO TOTAL (DIAS)','N° SIGED','PRAZO DO CONTRATO (DIAS)'], axis=1, inplace=True)\n",
    "\n",
    "\n"
   ]
  },
  {
   "cell_type": "code",
   "execution_count": 8,
   "metadata": {},
   "outputs": [],
   "source": [
    "# Criar um novo arquivo Excel\n",
    "wb = Workbook()\n",
    "ws = wb.active\n",
    "\n",
    "# Iterar sobre cada linha do DataFrame\n",
    "for index, row in df.iterrows():\n",
    "    # Adicionar a informação da coluna 'OBJETO' na célula mesclada\n",
    "    ws.merge_cells(start_row=ws.max_row+1, start_column=1, end_row=ws.max_row+1, end_column=16)\n",
    "    ws.cell(row=ws.max_row, column=1, value=f\"OBJETO: {row['OBJETO']}\")\n",
    "    # ws.append(row['OBJETO'])\n",
    "    \n",
    "    # Adicionar as informações das colunas 'ENDEREÇO', 'CONTRATO N°', 'EMPRESA' em uma linha\n",
    "    ws.merge_cells(start_row=ws.max_row+1, start_column=2, end_row=ws.max_row+1, end_column=11)\n",
    "    ws.merge_cells(start_row=ws.max_row, start_column=12, end_row=ws.max_row, end_column=16)\n",
    "    ws.cell(row=ws.max_row, column=1, value=f\"CONTRATO N°: {row['CONTRATO N°']}\")\n",
    "    ws.cell(row=ws.max_row, column=2, value=f\"ENDEREÇO: {row['ENDEREÇO']}\")\n",
    "    ws.cell(row=ws.max_row, column=12, value=f\"EMPRESA: {row['EMPRESA']}\")\n",
    "    # ws.append([row['ENDEREÇO'], row['CONTRATO N°'], row['EMPRESA']])\n",
    "    \n",
    "    # Adicionar as demais informações em uma linha separada por células\n",
    "    ws.append(list(row.drop(['OBJETO', 'ENDEREÇO', 'CONTRATO N°', 'EMPRESA'])))\n",
    "\n",
    "# Salvar o arquivo Excel\n",
    "wb.save('Controle de obras - 2023.xlsx')\n"
   ]
  },
  {
   "cell_type": "code",
   "execution_count": null,
   "metadata": {},
   "outputs": [],
   "source": [
    "\n",
    "# Carregar o arquivo Excel\n",
    "arquivo_excel = r\"C:\\Users\\luan.pinto\\Downloads\\0.CONTROLE DE CONTRATOS.xlsx\"\n",
    "workbook = load_workbook(arquivo_excel)\n",
    "\n",
    "# Acessar a planilha desejada\n",
    "nome_da_planilha = 'Planilha tests'  # Substitua pelo nome da sua planilha\n",
    "sheet = workbook[nome_da_planilha]\n",
    "\n",
    "# Iterar sobre cada linha na coluna A e adicionar duas linhas acima\n",
    "coluna_a = sheet['A']\n",
    "for cell in coluna_a:\n",
    "    adicionar_linhas_acima(sheet, numero_linhas=2)\n",
    "\n",
    "# Salvar as alterações\n",
    "workbook.save('Controle de obras - 2023.xlsx')\n"
   ]
  }
 ],
 "metadata": {
  "kernelspec": {
   "display_name": "controle_obras",
   "language": "python",
   "name": "python3"
  },
  "language_info": {
   "codemirror_mode": {
    "name": "ipython",
    "version": 3
   },
   "file_extension": ".py",
   "mimetype": "text/x-python",
   "name": "python",
   "nbconvert_exporter": "python",
   "pygments_lexer": "ipython3",
   "version": "3.10.4"
  }
 },
 "nbformat": 4,
 "nbformat_minor": 2
}
